{
 "cells": [
  {
   "cell_type": "code",
   "execution_count": 8,
   "metadata": {},
   "outputs": [],
   "source": [
    "from lya_2pt.interface import Interface\n",
    "from lya_2pt.correlation import _compute_xi_kernel\n",
    "from configparser import ConfigParser\n",
    "from numba.typed import List\n",
    "import numpy as np"
   ]
  },
  {
   "cell_type": "code",
   "execution_count": 2,
   "metadata": {},
   "outputs": [
    {
     "data": {
      "text/plain": [
       "['lyaxlya_cf.ini']"
      ]
     },
     "execution_count": 2,
     "metadata": {},
     "output_type": "execute_result"
    }
   ],
   "source": [
    "config = ConfigParser()\n",
    "config.read(\"lyaxlya_cf.ini\")"
   ]
  },
  {
   "cell_type": "code",
   "execution_count": 3,
   "metadata": {},
   "outputs": [
    {
     "name": "stdout",
     "output_type": "stream",
     "text": [
      "Starting computation...\n",
      "Reading Healpix 100 on MPI rank 0\n",
      "Time reading 100 on MPI rank 0: 3.457\n",
      "Computing xi in Healpix 100 on MPI rank 0\n",
      "Time computing 100 on MPI rank 0: 0.000\n",
      "Writing xi for Healpix 100 on MPI rank 0\n",
      "Time writing 100 on MPI rank 0: 0.000\n"
     ]
    }
   ],
   "source": [
    "lya2pt = Interface(config)\n",
    "lya2pt.run(test_run=True)"
   ]
  },
  {
   "cell_type": "code",
   "execution_count": 4,
   "metadata": {},
   "outputs": [],
   "source": [
    "tracers1 = List([t for t in lya2pt.tracers1])\n",
    "# tracers1 = List([lya2pt.tracers1[0]])\n",
    "tracers2 = List([t for t in lya2pt.tracers2])\n",
    "rp_min = lya2pt.config['settings'].getfloat('rp_min')\n",
    "rp_max = lya2pt.config['settings'].getfloat('rp_max')\n",
    "rt_max = lya2pt.config['settings'].getfloat('rt_max')\n",
    "num_bins_rp = lya2pt.config['settings'].getint('num_bins_rp')\n",
    "num_bins_rt = lya2pt.config['settings'].getint('num_bins_rt')\n"
   ]
  },
  {
   "cell_type": "code",
   "execution_count": 7,
   "metadata": {},
   "outputs": [
    {
     "ename": "TypeError",
     "evalue": "cannot pickle 'Tracer' object",
     "output_type": "error",
     "traceback": [
      "\u001b[0;31m---------------------------------------------------------------------------\u001b[0m",
      "\u001b[0;31mTypeError\u001b[0m                                 Traceback (most recent call last)",
      "Cell \u001b[0;32mIn[7], line 2\u001b[0m\n\u001b[1;32m      1\u001b[0m \u001b[39m# %%timeit\u001b[39;00m\n\u001b[0;32m----> 2\u001b[0m output \u001b[39m=\u001b[39m compute_xi(tracers1, tracers2, config[\u001b[39m'\u001b[39;49m\u001b[39msettings\u001b[39;49m\u001b[39m'\u001b[39;49m], \u001b[39m2\u001b[39;49m)\n",
      "File \u001b[0;32m/mnt/c/Users/cuceu.1/Desktop/work/dev/lya_2pt/lya_2pt/correlation.py:55\u001b[0m, in \u001b[0;36mcompute_xi\u001b[0;34m(tracers1, tracers2, config, num_cpu)\u001b[0m\n\u001b[1;32m     52\u001b[0m arguments \u001b[39m=\u001b[39m [(local_tracers1, tracers2, rp_min, rp_max, rt_max, \n\u001b[1;32m     53\u001b[0m               num_bins_rp, num_bins_rt) \u001b[39mfor\u001b[39;00m local_tracers1 \u001b[39min\u001b[39;00m split_tracers1]\n\u001b[1;32m     54\u001b[0m \u001b[39mwith\u001b[39;00m Pool(processes\u001b[39m=\u001b[39mnum_cpu) \u001b[39mas\u001b[39;00m pool:\n\u001b[0;32m---> 55\u001b[0m     results \u001b[39m=\u001b[39m pool\u001b[39m.\u001b[39;49mstarmap(_compute_xi_kernel, arguments)\n\u001b[1;32m     57\u001b[0m results \u001b[39m=\u001b[39m np\u001b[39m.\u001b[39marray(results)\n\u001b[1;32m     58\u001b[0m xi_grid \u001b[39m=\u001b[39m np\u001b[39m.\u001b[39msum(results[:, \u001b[39m0\u001b[39m, :] \u001b[39m*\u001b[39m results[:, \u001b[39m1\u001b[39m, :], axis\u001b[39m=\u001b[39m\u001b[39m0\u001b[39m)\n",
      "File \u001b[0;32m~/anaconda3/envs/lya_2pt/lib/python3.9/multiprocessing/pool.py:372\u001b[0m, in \u001b[0;36mPool.starmap\u001b[0;34m(self, func, iterable, chunksize)\u001b[0m\n\u001b[1;32m    366\u001b[0m \u001b[39mdef\u001b[39;00m \u001b[39mstarmap\u001b[39m(\u001b[39mself\u001b[39m, func, iterable, chunksize\u001b[39m=\u001b[39m\u001b[39mNone\u001b[39;00m):\n\u001b[1;32m    367\u001b[0m \u001b[39m    \u001b[39m\u001b[39m'''\u001b[39;00m\n\u001b[1;32m    368\u001b[0m \u001b[39m    Like `map()` method but the elements of the `iterable` are expected to\u001b[39;00m\n\u001b[1;32m    369\u001b[0m \u001b[39m    be iterables as well and will be unpacked as arguments. Hence\u001b[39;00m\n\u001b[1;32m    370\u001b[0m \u001b[39m    `func` and (a, b) becomes func(a, b).\u001b[39;00m\n\u001b[1;32m    371\u001b[0m \u001b[39m    '''\u001b[39;00m\n\u001b[0;32m--> 372\u001b[0m     \u001b[39mreturn\u001b[39;00m \u001b[39mself\u001b[39;49m\u001b[39m.\u001b[39;49m_map_async(func, iterable, starmapstar, chunksize)\u001b[39m.\u001b[39;49mget()\n",
      "File \u001b[0;32m~/anaconda3/envs/lya_2pt/lib/python3.9/multiprocessing/pool.py:771\u001b[0m, in \u001b[0;36mApplyResult.get\u001b[0;34m(self, timeout)\u001b[0m\n\u001b[1;32m    769\u001b[0m     \u001b[39mreturn\u001b[39;00m \u001b[39mself\u001b[39m\u001b[39m.\u001b[39m_value\n\u001b[1;32m    770\u001b[0m \u001b[39melse\u001b[39;00m:\n\u001b[0;32m--> 771\u001b[0m     \u001b[39mraise\u001b[39;00m \u001b[39mself\u001b[39m\u001b[39m.\u001b[39m_value\n",
      "File \u001b[0;32m~/anaconda3/envs/lya_2pt/lib/python3.9/multiprocessing/pool.py:537\u001b[0m, in \u001b[0;36mPool._handle_tasks\u001b[0;34m(taskqueue, put, outqueue, pool, cache)\u001b[0m\n\u001b[1;32m    535\u001b[0m     \u001b[39mbreak\u001b[39;00m\n\u001b[1;32m    536\u001b[0m \u001b[39mtry\u001b[39;00m:\n\u001b[0;32m--> 537\u001b[0m     put(task)\n\u001b[1;32m    538\u001b[0m \u001b[39mexcept\u001b[39;00m \u001b[39mException\u001b[39;00m \u001b[39mas\u001b[39;00m e:\n\u001b[1;32m    539\u001b[0m     job, idx \u001b[39m=\u001b[39m task[:\u001b[39m2\u001b[39m]\n",
      "File \u001b[0;32m~/anaconda3/envs/lya_2pt/lib/python3.9/multiprocessing/connection.py:206\u001b[0m, in \u001b[0;36m_ConnectionBase.send\u001b[0;34m(self, obj)\u001b[0m\n\u001b[1;32m    204\u001b[0m \u001b[39mself\u001b[39m\u001b[39m.\u001b[39m_check_closed()\n\u001b[1;32m    205\u001b[0m \u001b[39mself\u001b[39m\u001b[39m.\u001b[39m_check_writable()\n\u001b[0;32m--> 206\u001b[0m \u001b[39mself\u001b[39m\u001b[39m.\u001b[39m_send_bytes(_ForkingPickler\u001b[39m.\u001b[39;49mdumps(obj))\n",
      "File \u001b[0;32m~/anaconda3/envs/lya_2pt/lib/python3.9/multiprocessing/reduction.py:51\u001b[0m, in \u001b[0;36mForkingPickler.dumps\u001b[0;34m(cls, obj, protocol)\u001b[0m\n\u001b[1;32m     48\u001b[0m \u001b[39m@classmethod\u001b[39m\n\u001b[1;32m     49\u001b[0m \u001b[39mdef\u001b[39;00m \u001b[39mdumps\u001b[39m(\u001b[39mcls\u001b[39m, obj, protocol\u001b[39m=\u001b[39m\u001b[39mNone\u001b[39;00m):\n\u001b[1;32m     50\u001b[0m     buf \u001b[39m=\u001b[39m io\u001b[39m.\u001b[39mBytesIO()\n\u001b[0;32m---> 51\u001b[0m     \u001b[39mcls\u001b[39;49m(buf, protocol)\u001b[39m.\u001b[39;49mdump(obj)\n\u001b[1;32m     52\u001b[0m     \u001b[39mreturn\u001b[39;00m buf\u001b[39m.\u001b[39mgetbuffer()\n",
      "\u001b[0;31mTypeError\u001b[0m: cannot pickle 'Tracer' object"
     ]
    }
   ],
   "source": [
    "# %%timeit\n",
    "output = _compute_xi_kernel(tracers1, tracers2, rp_min, rp_max, rt_max, num_bins_rp, num_bins_rt)"
   ]
  },
  {
   "cell_type": "code",
   "execution_count": 9,
   "metadata": {},
   "outputs": [
    {
     "ename": "RuntimeError",
     "evalue": "self.setup has not been called",
     "output_type": "error",
     "traceback": [
      "\u001b[0;31m---------------------------------------------------------------------------\u001b[0m",
      "\u001b[0;31mRuntimeError\u001b[0m                              Traceback (most recent call last)",
      "Cell \u001b[0;32mIn[9], line 2\u001b[0m\n\u001b[1;32m      1\u001b[0m _compute_xi_kernel(tracers1, tracers2, rp_min, rp_max, rt_max, num_bins_rp, num_bins_rt)\n\u001b[0;32m----> 2\u001b[0m _compute_xi_kernel\u001b[39m.\u001b[39;49mparallel_diagnostics(level\u001b[39m=\u001b[39;49m\u001b[39m4\u001b[39;49m)\n",
      "File \u001b[0;32m~/anaconda3/envs/lya_2pt/lib/python3.9/site-packages/numba/core/dispatcher.py:1027\u001b[0m, in \u001b[0;36mDispatcher.parallel_diagnostics\u001b[0;34m(self, signature, level)\u001b[0m\n\u001b[1;32m   1025\u001b[0m     dump(signature)\n\u001b[1;32m   1026\u001b[0m \u001b[39melse\u001b[39;00m:\n\u001b[0;32m-> 1027\u001b[0m     [dump(sig) \u001b[39mfor\u001b[39;00m sig \u001b[39min\u001b[39;00m \u001b[39mself\u001b[39m\u001b[39m.\u001b[39msignatures]\n",
      "File \u001b[0;32m~/anaconda3/envs/lya_2pt/lib/python3.9/site-packages/numba/core/dispatcher.py:1027\u001b[0m, in \u001b[0;36m<listcomp>\u001b[0;34m(.0)\u001b[0m\n\u001b[1;32m   1025\u001b[0m     dump(signature)\n\u001b[1;32m   1026\u001b[0m \u001b[39melse\u001b[39;00m:\n\u001b[0;32m-> 1027\u001b[0m     [dump(sig) \u001b[39mfor\u001b[39;00m sig \u001b[39min\u001b[39;00m \u001b[39mself\u001b[39m\u001b[39m.\u001b[39msignatures]\n",
      "File \u001b[0;32m~/anaconda3/envs/lya_2pt/lib/python3.9/site-packages/numba/core/dispatcher.py:1023\u001b[0m, in \u001b[0;36mDispatcher.parallel_diagnostics.<locals>.dump\u001b[0;34m(sig)\u001b[0m\n\u001b[1;32m   1021\u001b[0m     msg \u001b[39m=\u001b[39m \u001b[39m\"\u001b[39m\u001b[39mNo parfors diagnostic available, is \u001b[39m\u001b[39m'\u001b[39m\u001b[39mparallel=True\u001b[39m\u001b[39m'\u001b[39m\u001b[39m set?\u001b[39m\u001b[39m\"\u001b[39m\n\u001b[1;32m   1022\u001b[0m     \u001b[39mraise\u001b[39;00m \u001b[39mValueError\u001b[39;00m(msg)\n\u001b[0;32m-> 1023\u001b[0m pfdiag\u001b[39m.\u001b[39;49mdump(level)\n",
      "File \u001b[0;32m~/anaconda3/envs/lya_2pt/lib/python3.9/site-packages/numba/parfors/parfor.py:1230\u001b[0m, in \u001b[0;36mParforDiagnostics.dump\u001b[0;34m(self, level)\u001b[0m\n\u001b[1;32m   1228\u001b[0m \u001b[39mdef\u001b[39;00m \u001b[39mdump\u001b[39m(\u001b[39mself\u001b[39m, level\u001b[39m=\u001b[39m\u001b[39m1\u001b[39m):\n\u001b[1;32m   1229\u001b[0m     \u001b[39mif\u001b[39;00m \u001b[39mnot\u001b[39;00m \u001b[39mself\u001b[39m\u001b[39m.\u001b[39mhas_setup:\n\u001b[0;32m-> 1230\u001b[0m         \u001b[39mraise\u001b[39;00m \u001b[39mRuntimeError\u001b[39;00m(\u001b[39m\"\u001b[39m\u001b[39mself.setup has not been called\u001b[39m\u001b[39m\"\u001b[39m)\n\u001b[1;32m   1231\u001b[0m     name \u001b[39m=\u001b[39m \u001b[39mself\u001b[39m\u001b[39m.\u001b[39mfunc_ir\u001b[39m.\u001b[39mfunc_id\u001b[39m.\u001b[39mfunc_qualname\n\u001b[1;32m   1232\u001b[0m     line \u001b[39m=\u001b[39m \u001b[39mself\u001b[39m\u001b[39m.\u001b[39mfunc_ir\u001b[39m.\u001b[39mloc\n",
      "\u001b[0;31mRuntimeError\u001b[0m: self.setup has not been called"
     ]
    }
   ],
   "source": [
    "_compute_xi_kernel(tracers1, tracers2, rp_min, rp_max, rt_max, num_bins_rp, num_bins_rt)"
   ]
  },
  {
   "cell_type": "code",
   "execution_count": 16,
   "metadata": {},
   "outputs": [
    {
     "data": {
      "text/plain": [
       "413"
      ]
     },
     "execution_count": 16,
     "metadata": {},
     "output_type": "execute_result"
    }
   ],
   "source": [
    "len(np.where(lya2pt.tracers1[0].neighbours)[0])"
   ]
  },
  {
   "cell_type": "code",
   "execution_count": 1,
   "metadata": {},
   "outputs": [],
   "source": [
    "from lya_2pt.test import test"
   ]
  },
  {
   "cell_type": "code",
   "execution_count": 2,
   "metadata": {},
   "outputs": [
    {
     "name": "stdout",
     "output_type": "stream",
     "text": [
      "1\n",
      "3\n",
      "7\n",
      "37941885.0\n"
     ]
    }
   ],
   "source": [
    "test()"
   ]
  },
  {
   "cell_type": "code",
   "execution_count": null,
   "metadata": {},
   "outputs": [],
   "source": []
  }
 ],
 "metadata": {
  "kernelspec": {
   "display_name": "lya_2pt",
   "language": "python",
   "name": "python3"
  },
  "language_info": {
   "codemirror_mode": {
    "name": "ipython",
    "version": 3
   },
   "file_extension": ".py",
   "mimetype": "text/x-python",
   "name": "python",
   "nbconvert_exporter": "python",
   "pygments_lexer": "ipython3",
   "version": "3.9.16"
  },
  "orig_nbformat": 4,
  "vscode": {
   "interpreter": {
    "hash": "938df078e5293fbc5acda9f69a2fce2bdbb0e47f9e0371828a5bd85ff41efe14"
   }
  }
 },
 "nbformat": 4,
 "nbformat_minor": 2
}
