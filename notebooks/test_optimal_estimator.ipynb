{
 "cells": [
  {
   "cell_type": "code",
   "execution_count": 1,
   "metadata": {},
   "outputs": [],
   "source": [
    "import numpy as np\n",
    "import matplotlib.pyplot as plt\n",
    "import scipy as sp\n",
    "from scipy.constants import speed_of_light\n",
    "from scipy.interpolate import InterpolatedUnivariateSpline\n",
    "from scipy.interpolate import RegularGridInterpolator as RGI\n",
    "from configparser import ConfigParser\n",
    "from numba import njit\n",
    "\n",
    "from lya_2pt.tracer import Tracer\n",
    "from lya_2pt.tracer_utils import get_angle\n",
    "from lya_2pt.interface import Interface\n",
    "import lya_2pt.global_data as globals\n",
    "import lya_2pt.optimal_estimator as optest\n",
    "\n",
    "from astropy.io import fits\n",
    "import fitsio"
   ]
  },
  {
   "cell_type": "code",
   "execution_count": 2,
   "metadata": {},
   "outputs": [
    {
     "name": "stdout",
     "output_type": "stream",
     "text": [
      "Om=0.315, Or=7.963219132297603e-05, wl=-1.0\n"
     ]
    }
   ],
   "source": [
    "config = ConfigParser()\n",
    "config.read('configs/lyaxlya_cf.ini')\n",
    "lya2pt = Interface(config)\n",
    "lya2pt.read_tracers()"
   ]
  },
  {
   "cell_type": "code",
   "execution_count": 4,
   "metadata": {},
   "outputs": [],
   "source": [
    "# globals.tracers1[1952][0].ne"
   ]
  },
  {
   "cell_type": "code",
   "execution_count": 3,
   "metadata": {},
   "outputs": [],
   "source": [
    "# lya2pt.run()"
   ]
  },
  {
   "cell_type": "code",
   "execution_count": 7,
   "metadata": {},
   "outputs": [
    {
     "data": {
      "text/plain": [
       "1.875"
      ]
     },
     "execution_count": 7,
     "metadata": {},
     "output_type": "execute_result"
    }
   ],
   "source": [
    "2.25 * 60 / 72"
   ]
  },
  {
   "cell_type": "code",
   "execution_count": 6,
   "metadata": {},
   "outputs": [
    {
     "data": {
      "text/plain": [
       "{1952: (array([  0.        , 376.35164424, 136.20727796, ...,   0.        ,\n",
       "           0.        ,   0.        ]),\n",
       "  array([[    0.       ,     0.       ,     0.       , ...,     0.       ,\n",
       "              0.       ,     0.       ],\n",
       "         [    0.       , 70827.6606944,     0.       , ...,     0.       ,\n",
       "              0.       ,     0.       ],\n",
       "         [    0.       ,     0.       , 94121.9112909, ...,     0.       ,\n",
       "              0.       ,     0.       ],\n",
       "         ...,\n",
       "         [    0.       ,     0.       ,     0.       , ...,     0.       ,\n",
       "              0.       ,     0.       ],\n",
       "         [    0.       ,     0.       ,     0.       , ...,     0.       ,\n",
       "              0.       ,     0.       ],\n",
       "         [    0.       ,     0.       ,     0.       , ...,     0.       ,\n",
       "              0.       ,     0.       ]])),\n",
       " 1953: (array([ 385.19109078,  300.78531507, 1116.33647964, ...,    0.        ,\n",
       "            0.        ,    0.        ]),\n",
       "  array([[6.51257958e+04, 0.00000000e+00, 0.00000000e+00, ...,\n",
       "          0.00000000e+00, 0.00000000e+00, 0.00000000e+00],\n",
       "         [0.00000000e+00, 1.54485172e+04, 2.87390974e+00, ...,\n",
       "          0.00000000e+00, 0.00000000e+00, 0.00000000e+00],\n",
       "         [0.00000000e+00, 0.00000000e+00, 6.57242940e+04, ...,\n",
       "          0.00000000e+00, 0.00000000e+00, 0.00000000e+00],\n",
       "         ...,\n",
       "         [0.00000000e+00, 0.00000000e+00, 0.00000000e+00, ...,\n",
       "          0.00000000e+00, 0.00000000e+00, 0.00000000e+00],\n",
       "         [0.00000000e+00, 0.00000000e+00, 0.00000000e+00, ...,\n",
       "          0.00000000e+00, 0.00000000e+00, 0.00000000e+00],\n",
       "         [0.00000000e+00, 0.00000000e+00, 0.00000000e+00, ...,\n",
       "          0.00000000e+00, 0.00000000e+00, 0.00000000e+00]]))}"
      ]
     },
     "execution_count": 6,
     "metadata": {},
     "output_type": "execute_result"
    }
   ],
   "source": [
    "lya2pt.optimal_xi_output"
   ]
  },
  {
   "cell_type": "code",
   "execution_count": 4,
   "metadata": {},
   "outputs": [],
   "source": [
    "xi1d_interp = optest.build_xi1d()"
   ]
  },
  {
   "cell_type": "code",
   "execution_count": 5,
   "metadata": {},
   "outputs": [
    {
     "data": {
      "text/plain": [
       "[<matplotlib.lines.Line2D at 0x7fb9618f16d0>]"
      ]
     },
     "execution_count": 5,
     "metadata": {},
     "output_type": "execute_result"
    },
    {
     "data": {
      "image/png": "[encoded data removed]",
      "text/plain": [
       "<Figure size 640x480 with 1 Axes>"
      ]
     },
     "metadata": {},
     "output_type": "display_data"
    }
   ],
   "source": [
    "plt.plot(xi1d_interp((1.8, np.linspace(-100, 100, 50000))))"
   ]
  },
  {
   "cell_type": "code",
   "execution_count": 6,
   "metadata": {},
   "outputs": [],
   "source": [
    "healpix_id = 1952\n",
    "hp_neighs = [other_hp for other_hp in globals.healpix_neighbours[healpix_id]\n",
    "             if other_hp in globals.tracers2]\n",
    "hp_neighs += [healpix_id]"
   ]
  },
  {
   "cell_type": "code",
   "execution_count": 7,
   "metadata": {},
   "outputs": [],
   "source": [
    "tracer1 = globals.tracers1[healpix_id][0]\n",
    "potential_neighbours = [tracer2 for hp in hp_neighs for tracer2 in globals.tracers2[hp]]\n",
    "neighbours = tracer1.get_neighbours(\n",
    "    potential_neighbours, globals.auto_flag,\n",
    "    globals.z_min, globals.z_max,\n",
    "    globals.rp_max, globals.rt_max\n",
    "    )\n",
    "tracer2 = neighbours[0]\n",
    "\n",
    "angle = get_angle(tracer1.x_cart, tracer1.y_cart, tracer1.z_cart, tracer1.ra, tracer1.dec,\n",
    "                  tracer2.x_cart, tracer2.y_cart, tracer2.z_cart, tracer2.ra, tracer2.dec)"
   ]
  },
  {
   "cell_type": "code",
   "execution_count": 8,
   "metadata": {},
   "outputs": [],
   "source": [
    "total_size = int(globals.num_bins_rp * globals.num_bins_rt)\n",
    "\n",
    "xi_est = np.zeros(total_size)\n",
    "fisher_est = np.zeros((total_size, total_size))"
   ]
  },
  {
   "cell_type": "code",
   "execution_count": 10,
   "metadata": {},
   "outputs": [
    {
     "data": {
      "text/plain": [
       "(array([  0.        ,   0.        , -16.59657238, ...,   0.        ,\n",
       "          0.        ,   0.        ]),\n",
       " array([[   0.       ,    0.       ,    0.       , ...,    0.       ,\n",
       "            0.       ,    0.       ],\n",
       "        [   0.       ,    0.       ,    0.       , ...,    0.       ,\n",
       "            0.       ,    0.       ],\n",
       "        [   0.       ,    0.       , 6188.3171725, ...,    0.       ,\n",
       "            0.       ,    0.       ],\n",
       "        ...,\n",
       "        [   0.       ,    0.       ,    0.       , ...,    0.       ,\n",
       "            0.       ,    0.       ],\n",
       "        [   0.       ,    0.       ,    0.       , ...,    0.       ,\n",
       "            0.       ,    0.       ],\n",
       "        [   0.       ,    0.       ,    0.       , ...,    0.       ,\n",
       "            0.       ,    0.       ]]))"
      ]
     },
     "execution_count": 10,
     "metadata": {},
     "output_type": "execute_result"
    }
   ],
   "source": [
    "optest.compute_xi_and_fisher_pair(tracer1, tracer2, angle, xi1d_interp, xi_est, fisher_est)"
   ]
  },
  {
   "cell_type": "code",
   "execution_count": 11,
   "metadata": {},
   "outputs": [
    {
     "data": {
      "text/plain": [
       "Text(0, 0.5, '$r_{||}$')"
      ]
     },
     "execution_count": 11,
     "metadata": {},
     "output_type": "execute_result"
    },
    {
     "data": {
      "image/png": "[encoded data removed]",
      "text/plain": [
       "<Figure size 640x480 with 2 Axes>"
      ]
     },
     "metadata": {},
     "output_type": "display_data"
    }
   ],
   "source": [
    "plt.imshow(xi_est.reshape(50, 50), origin='lower', cmap='seismic',\n",
    "           vmin=-xi_est.max(), vmax=xi_est.max(),\n",
    "           extent=(0, 200, 0, 200))\n",
    "plt.colorbar()\n",
    "plt.xlabel(r'$r_\\bot$')\n",
    "plt.ylabel(r'$r_{||}$')"
   ]
  },
  {
   "cell_type": "code",
   "execution_count": 12,
   "metadata": {},
   "outputs": [
    {
     "data": {
      "text/plain": [
       "<matplotlib.colorbar.Colorbar at 0x7fb95ab94ee0>"
      ]
     },
     "execution_count": 12,
     "metadata": {},
     "output_type": "execute_result"
    },
    {
     "data": {
      "image/png": "[encoded data removed]",
      "text/plain": [
       "<Figure size 640x480 with 2 Axes>"
      ]
     },
     "metadata": {},
     "output_type": "display_data"
    }
   ],
   "source": [
    "plt.imshow(fisher_est[2::50, 2::50], vmin=-fisher_est[2::50, 2::50].max(), vmax=fisher_est[2::50, 2::50].max(),\n",
    "           cmap='seismic')\n",
    "plt.colorbar()\n",
    "# plt.xlabel(r'$r_\\bot$')\n",
    "# plt.ylabel(r'$r_{||}$')"
   ]
  },
  {
   "cell_type": "code",
   "execution_count": 22,
   "metadata": {},
   "outputs": [
    {
     "data": {
      "text/plain": [
       "205219.62005940845"
      ]
     },
     "execution_count": 22,
     "metadata": {},
     "output_type": "execute_result"
    }
   ],
   "source": [
    "np.sum(fisher_est)"
   ]
  },
  {
   "cell_type": "code",
   "execution_count": 14,
   "metadata": {},
   "outputs": [
    {
     "name": "stdout",
     "output_type": "stream",
     "text": [
      "939 ms ± 386 ms per loop (mean ± std. dev. of 7 runs, 10 loops each)\n"
     ]
    }
   ],
   "source": [
    "%%timeit -n 10\n",
    "optest.compute_xi_and_fisher_pair(tracer1, tracer2, angle, xi1d_interp, xi_est, fisher_est)"
   ]
  },
  {
   "cell_type": "code",
   "execution_count": null,
   "metadata": {},
   "outputs": [],
   "source": [
    "def compute_xi_and_fisher_pair(\n",
    "        tracer1, tracer2, angle, xi1d_interp,\n",
    "        xi_est, fisher_est\n",
    "):\n",
    "    invcov1 = build_inverse_covariance(tracer1, xi1d_interp)\n",
    "    invcov2 = build_inverse_covariance(tracer2, xi1d_interp)\n",
    "\n",
    "    bins, mask = get_xi_bins(tracer1, tracer2, angle)\n",
    "    c_deriv_dict = build_deriv(xi_est.size, bins)\n",
    "\n",
    "    for key1, c_deriv1 in c_deriv_dict.items():\n",
    "        xi = c_deriv1.dot(invcov2 @ tracer2.deltas)\n",
    "        xi = 2 * np.dot(invcov1 @ tracer1.deltas, xi)\n",
    "\n",
    "        xi_est[key1] += xi\n",
    "\n",
    "        c1_inv_times_c_deriv = c_deriv1.dot(invcov2)\n",
    "\n",
    "        for i, (key2, c_deriv2) in enumerate(c_deriv_dict.items()):\n",
    "            if key2 < key1:\n",
    "                continue\n",
    "            # c2_inv_times_c_deriv = c_deriv2.T.dot(invcov1)\n",
    "            c2_inv_times_c_deriv = invcov1 @ c_deriv2\n",
    "\n",
    "            fisher_est[key1, key2] += np.vdot(c1_inv_times_c_deriv, c2_inv_times_c_deriv)\n",
    "\n",
    "    return xi_est, fisher_est"
   ]
  },
  {
   "cell_type": "code",
   "execution_count": 15,
   "metadata": {},
   "outputs": [
    {
     "data": {
      "text/plain": [
       "(array([    0.        ,     0.        , -1194.95321115, ...,\n",
       "            0.        ,     0.        ,     0.        ]),\n",
       " array([[     0.        ,      0.        ,      0.        , ...,\n",
       "              0.        ,      0.        ,      0.        ],\n",
       "        [     0.        ,      0.        ,      0.        , ...,\n",
       "              0.        ,      0.        ,      0.        ],\n",
       "        [     0.        ,      0.        , 445558.83642036, ...,\n",
       "              0.        ,      0.        ,      0.        ],\n",
       "        ...,\n",
       "        [     0.        ,      0.        ,      0.        , ...,\n",
       "              0.        ,      0.        ,      0.        ],\n",
       "        [     0.        ,      0.        ,      0.        , ...,\n",
       "              0.        ,      0.        ,      0.        ],\n",
       "        [     0.        ,      0.        ,      0.        , ...,\n",
       "              0.        ,      0.        ,      0.        ]]))"
      ]
     },
     "execution_count": 15,
     "metadata": {},
     "output_type": "execute_result"
    }
   ],
   "source": [
    "# %%timeit -n 10\n",
    "optest.compute_xi_and_fisher_pair(tracer1, tracer2, angle, xi1d_interp, xi_est, fisher_est)"
   ]
  },
  {
   "cell_type": "code",
   "execution_count": 17,
   "metadata": {},
   "outputs": [
    {
     "ename": "NameError",
     "evalue": "name 'build_inverse_covariance' is not defined",
     "output_type": "error",
     "traceback": [
      "\u001b[0;31m---------------------------------------------------------------------------\u001b[0m",
      "\u001b[0;31mNameError\u001b[0m                                 Traceback (most recent call last)",
      "Cell \u001b[0;32mIn[17], line 1\u001b[0m\n\u001b[0;32m----> 1\u001b[0m invcov1 \u001b[39m=\u001b[39m build_inverse_covariance(tracer1, xi1d_interp)\n\u001b[1;32m      2\u001b[0m invcov2 \u001b[39m=\u001b[39m build_inverse_covariance(tracer2, xi1d_interp)\n\u001b[1;32m      4\u001b[0m bins, mask \u001b[39m=\u001b[39m get_xi_bins(tracer1, tracer2, angle)\n",
      "\u001b[0;31mNameError\u001b[0m: name 'build_inverse_covariance' is not defined"
     ]
    }
   ],
   "source": [
    "invcov1 = optest.build_inverse_covariance(tracer1, xi1d_interp)\n",
    "invcov2 = optest.build_inverse_covariance(tracer2, xi1d_interp)\n",
    "\n",
    "bins, mask = optest.get_xi_bins(tracer1, tracer2, angle)\n",
    "c_deriv_dict = optest.build_deriv(xi_est.size, bins)\n",
    "\n",
    "c_deriv1 = c_deriv_dict[2]\n",
    "c1_inv_times_c_deriv = c_deriv1.dot(invcov2)\n",
    "c_deriv2 = c_deriv_dict[52]"
   ]
  },
  {
   "cell_type": "code",
   "execution_count": 16,
   "metadata": {},
   "outputs": [
    {
     "ename": "NameError",
     "evalue": "name 'invcov1' is not defined",
     "output_type": "error",
     "traceback": [
      "\u001b[0;31m---------------------------------------------------------------------------\u001b[0m",
      "\u001b[0;31mNameError\u001b[0m                                 Traceback (most recent call last)",
      "Cell \u001b[0;32mIn[16], line 1\u001b[0m\n\u001b[0;32m----> 1\u001b[0m get_ipython()\u001b[39m.\u001b[39;49mrun_cell_magic(\u001b[39m'\u001b[39;49m\u001b[39mtimeit\u001b[39;49m\u001b[39m'\u001b[39;49m, \u001b[39m'\u001b[39;49m\u001b[39m'\u001b[39;49m, \u001b[39m'\u001b[39;49m\u001b[39mc2_inv_times_c_deriv = invcov1 @ c_deriv2\u001b[39;49m\u001b[39m\\n\u001b[39;49;00m\u001b[39mfisher_est[key1, key2] += np.vdot(c1_inv_times_c_deriv, c2_inv_times_c_deriv)\u001b[39;49m\u001b[39m\\n\u001b[39;49;00m\u001b[39m'\u001b[39;49m)\n",
      "File \u001b[0;32m~/anaconda3/envs/lya_2pt/lib/python3.9/site-packages/IPython/core/interactiveshell.py:2422\u001b[0m, in \u001b[0;36mInteractiveShell.run_cell_magic\u001b[0;34m(self, magic_name, line, cell)\u001b[0m\n\u001b[1;32m   2420\u001b[0m \u001b[39mwith\u001b[39;00m \u001b[39mself\u001b[39m\u001b[39m.\u001b[39mbuiltin_trap:\n\u001b[1;32m   2421\u001b[0m     args \u001b[39m=\u001b[39m (magic_arg_s, cell)\n\u001b[0;32m-> 2422\u001b[0m     result \u001b[39m=\u001b[39m fn(\u001b[39m*\u001b[39;49margs, \u001b[39m*\u001b[39;49m\u001b[39m*\u001b[39;49mkwargs)\n\u001b[1;32m   2423\u001b[0m \u001b[39mreturn\u001b[39;00m result\n",
      "File \u001b[0;32m~/anaconda3/envs/lya_2pt/lib/python3.9/site-packages/IPython/core/magics/execution.py:1162\u001b[0m, in \u001b[0;36mExecutionMagics.timeit\u001b[0;34m(self, line, cell, local_ns)\u001b[0m\n\u001b[1;32m   1160\u001b[0m \u001b[39mfor\u001b[39;00m index \u001b[39min\u001b[39;00m \u001b[39mrange\u001b[39m(\u001b[39m0\u001b[39m, \u001b[39m10\u001b[39m):\n\u001b[1;32m   1161\u001b[0m     number \u001b[39m=\u001b[39m \u001b[39m10\u001b[39m \u001b[39m*\u001b[39m\u001b[39m*\u001b[39m index\n\u001b[0;32m-> 1162\u001b[0m     time_number \u001b[39m=\u001b[39m timer\u001b[39m.\u001b[39;49mtimeit(number)\n\u001b[1;32m   1163\u001b[0m     \u001b[39mif\u001b[39;00m time_number \u001b[39m>\u001b[39m\u001b[39m=\u001b[39m \u001b[39m0.2\u001b[39m:\n\u001b[1;32m   1164\u001b[0m         \u001b[39mbreak\u001b[39;00m\n",
      "File \u001b[0;32m~/anaconda3/envs/lya_2pt/lib/python3.9/site-packages/IPython/core/magics/execution.py:156\u001b[0m, in \u001b[0;36mTimer.timeit\u001b[0;34m(self, number)\u001b[0m\n\u001b[1;32m    154\u001b[0m gc\u001b[39m.\u001b[39mdisable()\n\u001b[1;32m    155\u001b[0m \u001b[39mtry\u001b[39;00m:\n\u001b[0;32m--> 156\u001b[0m     timing \u001b[39m=\u001b[39m \u001b[39mself\u001b[39;49m\u001b[39m.\u001b[39;49minner(it, \u001b[39mself\u001b[39;49m\u001b[39m.\u001b[39;49mtimer)\n\u001b[1;32m    157\u001b[0m \u001b[39mfinally\u001b[39;00m:\n\u001b[1;32m    158\u001b[0m     \u001b[39mif\u001b[39;00m gcold:\n",
      "File \u001b[0;32m<magic-timeit>:1\u001b[0m, in \u001b[0;36minner\u001b[0;34m(_it, _timer)\u001b[0m\n",
      "\u001b[0;31mNameError\u001b[0m: name 'invcov1' is not defined"
     ]
    }
   ],
   "source": [
    "%%timeit\n",
    "c2_inv_times_c_deriv = invcov1 @ c_deriv2\n",
    "fisher_est[key1, key2] += np.vdot(c1_inv_times_c_deriv, c2_inv_times_c_deriv)"
   ]
  },
  {
   "cell_type": "code",
   "execution_count": 14,
   "metadata": {},
   "outputs": [],
   "source": [
    "invcov1 = optest.build_inverse_covariance(tracer1, xi1d_interp)\n",
    "invcov2 = optest.build_inverse_covariance(tracer2, xi1d_interp)\n",
    "\n",
    "bins, mask = optest.get_xi_bins(tracer1, tracer2, angle)\n",
    "c_deriv_dict = optest.build_deriv(xi_est.size, bins)\n",
    "\n",
    "xi_est = np.zeros(total_size)\n",
    "fisher_est = np.zeros((total_size, total_size))\n",
    "for key1, c_deriv1 in c_deriv_dict.items():\n",
    "    xi = c_deriv1.dot(invcov2 @ tracer2.deltas)\n",
    "    xi = 2 * np.dot(invcov1 @ tracer1.deltas, xi)\n",
    "\n",
    "    xi_est[key1] += xi\n",
    "\n",
    "    c1_inv_times_c_deriv = c_deriv1.dot(invcov2)\n",
    "\n",
    "    for key2, c_deriv2 in c_deriv_dict.items():\n",
    "        c2_inv_times_c_deriv = c_deriv2.T.dot(invcov1)\n",
    "\n",
    "        fisher_est[key1, key2] += np.vdot(c1_inv_times_c_deriv, c2_inv_times_c_deriv.T)\n"
   ]
  },
  {
   "cell_type": "code",
   "execution_count": 47,
   "metadata": {},
   "outputs": [
    {
     "data": {
      "text/plain": [
       "<matplotlib.colorbar.Colorbar at 0x7fa358290f70>"
      ]
     },
     "execution_count": 47,
     "metadata": {},
     "output_type": "execute_result"
    },
    {
     "data": {
      "image/png": "[encoded data removed]",
      "text/plain": [
       "<Figure size 640x480 with 2 Axes>"
      ]
     },
     "metadata": {},
     "output_type": "display_data"
    }
   ],
   "source": [
    "plt.imshow(fisher_est[2::50, 2::50])\n",
    "plt.colorbar()\n",
    "# plt.xlabel(r'$r_\\bot$')\n",
    "# plt.ylabel(r'$r_{||}$')"
   ]
  },
  {
   "cell_type": "code",
   "execution_count": 50,
   "metadata": {},
   "outputs": [
    {
     "name": "stdout",
     "output_type": "stream",
     "text": [
      "156 µs ± 11.2 µs per loop (mean ± std. dev. of 7 runs, 10,000 loops each)\n"
     ]
    }
   ],
   "source": [
    "%%timeit\n",
    "bins, mask = optest.get_xi_bins(tracer1, tracer2, angle)"
   ]
  },
  {
   "cell_type": "code",
   "execution_count": 54,
   "metadata": {},
   "outputs": [
    {
     "name": "stdout",
     "output_type": "stream",
     "text": [
      "11.4 ms ± 3.2 ms per loop (mean ± std. dev. of 7 runs, 10 loops each)\n"
     ]
    }
   ],
   "source": [
    "%%timeit\n",
    "invcov1 = optest.build_inverse_covariance(tracer1, xi1d_interp)"
   ]
  },
  {
   "cell_type": "code",
   "execution_count": 56,
   "metadata": {},
   "outputs": [
    {
     "name": "stdout",
     "output_type": "stream",
     "text": [
      "3.11 ms ± 1.82 ms per loop (mean ± std. dev. of 7 runs, 100 loops each)\n"
     ]
    }
   ],
   "source": [
    "%%timeit\n",
    "invcov2 = optest.build_inverse_covariance(tracer2, xi1d_interp)"
   ]
  },
  {
   "cell_type": "code",
   "execution_count": 60,
   "metadata": {},
   "outputs": [
    {
     "name": "stdout",
     "output_type": "stream",
     "text": [
      "6.06 ms ± 211 µs per loop (mean ± std. dev. of 7 runs, 100 loops each)\n"
     ]
    }
   ],
   "source": [
    "%%timeit\n",
    "c_deriv_dict = optest.build_deriv(xi_est.size, bins)"
   ]
  },
  {
   "cell_type": "code",
   "execution_count": 67,
   "metadata": {},
   "outputs": [
    {
     "data": {
      "text/plain": [
       "50"
      ]
     },
     "execution_count": 67,
     "metadata": {},
     "output_type": "execute_result"
    }
   ],
   "source": [
    "len(c_deriv_dict.keys())"
   ]
  },
  {
   "cell_type": "code",
   "execution_count": 73,
   "metadata": {},
   "outputs": [
    {
     "data": {
      "text/plain": [
       "dict_keys([2, 52, 102, 152, 202, 252, 302, 352, 402, 452, 502, 552, 602, 652, 702, 752, 802, 852, 902, 952, 1002, 1052, 1102, 1152, 1202, 1252, 1302, 1352, 1402, 1452, 1502, 1552, 1602, 1652, 1702, 1752, 1802, 1852, 1902, 1952, 2002, 2052, 2102, 2152, 2202, 2252, 2302, 2352, 2402, 2452])"
      ]
     },
     "execution_count": 73,
     "metadata": {},
     "output_type": "execute_result"
    }
   ],
   "source": [
    "c_deriv_dict.keys()"
   ]
  },
  {
   "cell_type": "code",
   "execution_count": 70,
   "metadata": {},
   "outputs": [],
   "source": [
    "c_deriv1 = c_deriv_dict[2]"
   ]
  },
  {
   "cell_type": "code",
   "execution_count": 71,
   "metadata": {},
   "outputs": [
    {
     "name": "stdout",
     "output_type": "stream",
     "text": [
      "64.3 µs ± 9.19 µs per loop (mean ± std. dev. of 7 runs, 10,000 loops each)\n"
     ]
    }
   ],
   "source": [
    "%%timeit\n",
    "xi = c_deriv1.dot(invcov2 @ tracer2.deltas)\n",
    "xi = 2 * np.dot(invcov1 @ tracer1.deltas, xi)\n",
    "xi_est[key1] += xi"
   ]
  },
  {
   "cell_type": "code",
   "execution_count": 69,
   "metadata": {},
   "outputs": [
    {
     "name": "stdout",
     "output_type": "stream",
     "text": [
      "17.5 µs ± 940 ns per loop (mean ± std. dev. of 7 runs, 100,000 loops each)\n"
     ]
    }
   ],
   "source": [
    "%%timeit\n",
    "c1_inv_times_c_deriv = c_deriv1.dot(invcov2)"
   ]
  },
  {
   "cell_type": "code",
   "execution_count": 23,
   "metadata": {},
   "outputs": [
    {
     "data": {
      "text/plain": [
       "3.2"
      ]
     },
     "execution_count": 23,
     "metadata": {},
     "output_type": "execute_result"
    }
   ],
   "source": [
    "64 * 50 / 1000"
   ]
  },
  {
   "cell_type": "code",
   "execution_count": 15,
   "metadata": {},
   "outputs": [],
   "source": [
    "c_deriv2 = c_deriv_dict[52]"
   ]
  },
  {
   "cell_type": "code",
   "execution_count": 16,
   "metadata": {},
   "outputs": [
    {
     "name": "stdout",
     "output_type": "stream",
     "text": [
      "35.1 µs ± 1.97 µs per loop (mean ± std. dev. of 7 runs, 10,000 loops each)\n"
     ]
    }
   ],
   "source": [
    "%%timeit\n",
    "c2_inv_times_c_deriv = c_deriv2.T.dot(invcov1)"
   ]
  },
  {
   "cell_type": "code",
   "execution_count": 17,
   "metadata": {},
   "outputs": [
    {
     "data": {
      "text/plain": [
       "1275.0"
      ]
     },
     "execution_count": 17,
     "metadata": {},
     "output_type": "execute_result"
    }
   ],
   "source": [
    "50*51/2"
   ]
  },
  {
   "cell_type": "code",
   "execution_count": 18,
   "metadata": {},
   "outputs": [
    {
     "data": {
      "text/plain": [
       "38.25"
      ]
     },
     "execution_count": 18,
     "metadata": {},
     "output_type": "execute_result"
    }
   ],
   "source": [
    "30 * 1275 / 1000"
   ]
  },
  {
   "cell_type": "code",
   "execution_count": 20,
   "metadata": {},
   "outputs": [
    {
     "name": "stdout",
     "output_type": "stream",
     "text": [
      "73 µs ± 12.8 µs per loop (mean ± std. dev. of 7 runs, 10,000 loops each)\n"
     ]
    }
   ],
   "source": [
    "%%timeit\n",
    "fisher_est[key1, key2] += np.vdot(c1_inv_times_c_deriv, c2_inv_times_c_deriv.T)"
   ]
  },
  {
   "cell_type": "code",
   "execution_count": 21,
   "metadata": {},
   "outputs": [
    {
     "data": {
      "text/plain": [
       "93.075"
      ]
     },
     "execution_count": 21,
     "metadata": {},
     "output_type": "execute_result"
    }
   ],
   "source": [
    "73 * 1275 / 1000"
   ]
  },
  {
   "cell_type": "code",
   "execution_count": 42,
   "metadata": {},
   "outputs": [],
   "source": [
    "test_1 = np.vdot(c1_inv_times_c_deriv, c2_inv_times_c_deriv)\n",
    "test_2 = np.vdot(c1_inv_times_c_deriv, c2_inv_times_c_deriv.T)"
   ]
  },
  {
   "cell_type": "code",
   "execution_count": 57,
   "metadata": {},
   "outputs": [
    {
     "data": {
      "text/plain": [
       "0.01375"
      ]
     },
     "execution_count": 57,
     "metadata": {},
     "output_type": "execute_result"
    }
   ],
   "source": [
    "11/800"
   ]
  },
  {
   "cell_type": "code",
   "execution_count": 45,
   "metadata": {},
   "outputs": [
    {
     "data": {
      "text/plain": [
       "()"
      ]
     },
     "execution_count": 45,
     "metadata": {},
     "output_type": "execute_result"
    }
   ],
   "source": [
    "test_2.shape"
   ]
  },
  {
   "cell_type": "code",
   "execution_count": 36,
   "metadata": {},
   "outputs": [
    {
     "data": {
      "text/plain": [
       "<matplotlib.image.AxesImage at 0x7fa35831da60>"
      ]
     },
     "execution_count": 36,
     "metadata": {},
     "output_type": "execute_result"
    },
    {
     "data": {
      "image/png": "[encoded data removed]",
      "text/plain": [
       "<Figure size 640x480 with 1 Axes>"
      ]
     },
     "metadata": {},
     "output_type": "display_data"
    }
   ],
   "source": [
    "plt.imshow(invcov2)"
   ]
  },
  {
   "cell_type": "code",
   "execution_count": 32,
   "metadata": {},
   "outputs": [
    {
     "data": {
      "text/plain": [
       "95"
      ]
     },
     "execution_count": 32,
     "metadata": {},
     "output_type": "execute_result"
    }
   ],
   "source": [
    "tracer2.z.size"
   ]
  },
  {
   "cell_type": "code",
   "execution_count": null,
   "metadata": {},
   "outputs": [],
   "source": []
  }
 ],
 "metadata": {
  "kernelspec": {
   "display_name": "lya_2pt",
   "language": "python",
   "name": "python3"
  },
  "language_info": {
   "codemirror_mode": {
    "name": "ipython",
    "version": 3
   },
   "file_extension": ".py",
   "mimetype": "text/x-python",
   "name": "python",
   "nbconvert_exporter": "python",
   "pygments_lexer": "ipython3",
   "version": "3.9.16"
  },
  "orig_nbformat": 4
 },
 "nbformat": 4,
 "nbformat_minor": 2
}
